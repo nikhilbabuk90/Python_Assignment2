{
 "cells": [
  {
   "cell_type": "markdown",
   "id": "b5f8cb82",
   "metadata": {},
   "source": [
    "## Question - 1"
   ]
  },
  {
   "cell_type": "code",
   "execution_count": 11,
   "id": "10414436",
   "metadata": {},
   "outputs": [
    {
     "name": "stdout",
     "output_type": "stream",
     "text": [
      "Enter a number between 1 and 10 : 4\n",
      "Too low! Try again.\n",
      "Enter a number again : 5\n",
      "Too low! Try again.\n",
      "Enter a number again : 6\n",
      "Too low! Try again.\n",
      "Enter a number again : 7\n",
      "Too low! Try again.\n",
      "Enter a number again : 8\n",
      "Too low! Try again.\n",
      "Enter a number again : 9\n",
      "Congratulations! You guessed the number correctly!\n"
     ]
    }
   ],
   "source": [
    "import random    #importing random library to create a random number\n",
    "\n",
    "secretNumber = random.randint(1,10)   #Creating a secret number between 1-10 randomly\n",
    "\n",
    "guess = int(input(\"Enter a number between 1 and 10 : \"))   #taking user input\n",
    "\n",
    "while secretNumber != guess:         #Comparing the number\n",
    "    \n",
    "    if secretNumber < guess:         \n",
    "        \n",
    "        print(\"Too high! Try again.\")\n",
    "        guess = int(input(\"Enter a number again : \")) #taking user input again\n",
    "    \n",
    "    elif secretNumber > guess:\n",
    "        print(\"Too low! Try again.\")\n",
    "        guess = int(input(\"Enter a number again : \"))\n",
    "    \n",
    "print(\"Congratulations! You guessed the number correctly!\")\n"
   ]
  },
  {
   "cell_type": "markdown",
   "id": "65e2f034",
   "metadata": {},
   "source": [
    "## 2. Write a program to find and print the Factorial of this number"
   ]
  },
  {
   "cell_type": "code",
   "execution_count": 15,
   "id": "84d8e42c",
   "metadata": {},
   "outputs": [
    {
     "name": "stdout",
     "output_type": "stream",
     "text": [
      "Enter the number : 5\n",
      "Factorial of  5 is  120\n"
     ]
    }
   ],
   "source": [
    "fact_Number = int(input(\"Enter the number : \"))   #Taking user input\n",
    "\n",
    "fact_result = 1    #Initializing the variable\n",
    "\n",
    "if fact_Number < 0:          #Checking the validity of the input\n",
    "    print(\"Factorial not existing\")\n",
    "\n",
    "elif fact_Number == 0:\n",
    "    print(\"Factorial is Zero\")\n",
    "    \n",
    "else:                       #calculating the result\n",
    "\n",
    "    for n in range(1,fact_Number+1):\n",
    "        fact_result = fact_result*n\n",
    "        \n",
    "print(\"Factorial of \",fact_Number, \"is \", fact_result)   #Printing the result"
   ]
  },
  {
   "cell_type": "markdown",
   "id": "ce330449",
   "metadata": {},
   "source": [
    "## Question - 3"
   ]
  },
  {
   "cell_type": "code",
   "execution_count": 20,
   "id": "ea176484",
   "metadata": {},
   "outputs": [
    {
     "name": "stdout",
     "output_type": "stream",
     "text": [
      "Enter length of the picture : 10\n",
      "Enter number of images : 2\n",
      "Enter width of the picture 10\n",
      "Enter Height of the picture 10\n",
      "ACCEPTED\n",
      "Enter width of the picture 12\n",
      "Enter Height of the picture 13\n",
      "CROP IT\n"
     ]
    }
   ],
   "source": [
    "L = int(input(\"Enter length of the picture : \"))   #taking user input\n",
    "N = int(input(\"Enter number of images : \"))\n",
    "\n",
    "\n",
    "    \n",
    "for i in range(1,N+1):                        #iterating as per the number of images\n",
    "    W = int(input(\"Enter width of the picture \" ))\n",
    "    H = int(input(\"Enter Height of the picture \"))\n",
    "    \n",
    "    if W<L and H<L:                       #Comparing with the given condition\n",
    "            \n",
    "        print(\"UPLOAD ANOTHER\")\n",
    "        break\n",
    "        \n",
    "    elif W>L and H>L:\n",
    "            \n",
    "        print(\"CROP IT\")\n",
    "        break\n",
    "    \n",
    "    elif W==L and H==L:\n",
    "        \n",
    "        print(\"ACCEPTED\")"
   ]
  },
  {
   "cell_type": "code",
   "execution_count": null,
   "id": "5e5404d8",
   "metadata": {},
   "outputs": [],
   "source": []
  },
  {
   "cell_type": "code",
   "execution_count": null,
   "id": "6c99a102",
   "metadata": {},
   "outputs": [],
   "source": []
  }
 ],
 "metadata": {
  "kernelspec": {
   "display_name": "Python 3 (ipykernel)",
   "language": "python",
   "name": "python3"
  },
  "language_info": {
   "codemirror_mode": {
    "name": "ipython",
    "version": 3
   },
   "file_extension": ".py",
   "mimetype": "text/x-python",
   "name": "python",
   "nbconvert_exporter": "python",
   "pygments_lexer": "ipython3",
   "version": "3.10.9"
  }
 },
 "nbformat": 4,
 "nbformat_minor": 5
}

